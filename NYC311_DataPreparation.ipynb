{
 "cells": [
  {
   "cell_type": "markdown",
   "metadata": {},
   "source": [
    "### 数据描述"
   ]
  },
  {
   "cell_type": "markdown",
   "metadata": {},
   "source": [
    "NYC 311's mission is to provide the public with quick and easy access to all New York City government services and information while offering the best customer service. \n",
    "\n",
    "The agency responds to the request, addresses it, and then closes it."
   ]
  },
  {
   "cell_type": "code",
   "execution_count": 1,
   "metadata": {},
   "outputs": [],
   "source": [
    "from pyspark import SparkContext\n",
    "sc = SparkContext()\n",
    "from pyspark.sql import SQLContext\n",
    "from pyspark.sql.types import Row, StructField, StructType, StringType, IntegerType\n",
    "from pyspark.sql import SparkSession\n",
    "spark = SparkSession(sc) \n",
    "sqlContext = SQLContext(sc)\n",
    "import pyspark.sql.functions as F"
   ]
  },
  {
   "cell_type": "markdown",
   "metadata": {},
   "source": [
    "### 阅读数据"
   ]
  },
  {
   "cell_type": "code",
   "execution_count": 2,
   "metadata": {
    "scrolled": true
   },
   "outputs": [],
   "source": [
    "df = spark.read.csv('../data/311_Service_Request.csv', header = True)"
   ]
  },
  {
   "cell_type": "markdown",
   "metadata": {},
   "source": [
    "### 处理重复\n"
   ]
  },
  {
   "cell_type": "code",
   "execution_count": 3,
   "metadata": {
    "scrolled": true
   },
   "outputs": [
    {
     "data": {
      "text/plain": [
       "['Unique Key',\n",
       " 'Created Date',\n",
       " 'Closed Date',\n",
       " 'Agency',\n",
       " 'Agency Name',\n",
       " 'Complaint Type',\n",
       " 'Descriptor',\n",
       " 'Location Type',\n",
       " 'Incident Zip',\n",
       " 'Incident Address',\n",
       " 'Street Name',\n",
       " 'Cross Street 1',\n",
       " 'Cross Street 2',\n",
       " 'Intersection Street 1',\n",
       " 'Intersection Street 2',\n",
       " 'Address Type',\n",
       " 'City',\n",
       " 'Landmark',\n",
       " 'Facility Type',\n",
       " 'Status',\n",
       " 'Due Date',\n",
       " 'Resolution Description',\n",
       " 'Resolution Action Updated Date',\n",
       " 'Community Board',\n",
       " 'Borough',\n",
       " 'X Coordinate (State Plane)',\n",
       " 'Y Coordinate (State Plane)',\n",
       " 'Park Facility Name',\n",
       " 'Park Borough',\n",
       " 'School Name',\n",
       " 'School Number',\n",
       " 'School Region',\n",
       " 'School Code',\n",
       " 'School Phone Number',\n",
       " 'School Address',\n",
       " 'School City',\n",
       " 'School State',\n",
       " 'School Zip',\n",
       " 'School Not Found',\n",
       " 'School or Citywide Complaint',\n",
       " 'Vehicle Type',\n",
       " 'Taxi Company Borough',\n",
       " 'Taxi Pick Up Location',\n",
       " 'Bridge Highway Name',\n",
       " 'Bridge Highway Direction',\n",
       " 'Road Ramp',\n",
       " 'Bridge Highway Segment',\n",
       " 'Garage Lot Name',\n",
       " 'Ferry Direction',\n",
       " 'Ferry Terminal Name',\n",
       " 'Latitude',\n",
       " 'Longitude',\n",
       " 'Location']"
      ]
     },
     "execution_count": 3,
     "metadata": {},
     "output_type": "execute_result"
    }
   ],
   "source": [
    "# DataFrame有哪些列\n",
    "df.columns"
   ]
  },
  {
   "cell_type": "code",
   "execution_count": 4,
   "metadata": {},
   "outputs": [
    {
     "name": "stdout",
     "output_type": "stream",
     "text": [
      "Count of rows: 300698\n",
      "Count of non-duplicated rows: 300698\n"
     ]
    }
   ],
   "source": [
    "# 检查是否存在重复值\n",
    "print('Count of rows: {0}'.format(df.count()))\n",
    "print('Count of non-duplicated rows: {0}'.format(df.distinct().count()))"
   ]
  },
  {
   "cell_type": "code",
   "execution_count": 5,
   "metadata": {},
   "outputs": [
    {
     "name": "stdout",
     "output_type": "stream",
     "text": [
      "Count of non-duplicated rows based on partial columns: 300486\n"
     ]
    }
   ],
   "source": [
    "# 初步估计因为有Unique Key存在所以找不出重复值，因此试试处理部分行的重复值\n",
    "# 因为同一件事务可能打了两次电话，导致unique key不一样，但实际上内容一样\n",
    "nonduplicated_row_count = df.dropDuplicates(subset = [c for c in df.columns if c not in df.columns[:3]]).count()\n",
    "print('Count of non-duplicated rows based on partial columns: {0}'.format(nonduplicated_row_count))"
   ]
  },
  {
   "cell_type": "code",
   "execution_count": 6,
   "metadata": {},
   "outputs": [
    {
     "name": "stdout",
     "output_type": "stream",
     "text": [
      "Count of rows after dealing with duplicates: 300486\n"
     ]
    }
   ],
   "source": [
    "# 找出重复值后处理重复值\n",
    "df = df.dropDuplicates(subset = [c for c in df.columns if c not in df.columns[:3]])\n",
    "print('Count of rows after dealing with duplicates: {0}'.format(df.count()))"
   ]
  },
  {
   "cell_type": "markdown",
   "metadata": {},
   "source": [
    "### 处理NA值"
   ]
  },
  {
   "cell_type": "code",
   "execution_count": 7,
   "metadata": {},
   "outputs": [],
   "source": [
    "# 第一步删去NA比例太大的列\n",
    "# 计算每列的NA比例\n",
    "column_na_percentage = []\n",
    "for col in df.columns:\n",
    "    column_na_percentage.append(df.select(col).na.drop().count()/nonduplicated_row_count)"
   ]
  },
  {
   "cell_type": "code",
   "execution_count": 8,
   "metadata": {
    "scrolled": true
   },
   "outputs": [
    {
     "data": {
      "text/plain": [
       "[1.0,\n",
       " 1.0,\n",
       " 0.99280166130868,\n",
       " 1.0,\n",
       " 1.0,\n",
       " 1.0,\n",
       " 1.0,\n",
       " 0.9995640395891988,\n",
       " 0.9913074153205141,\n",
       " 0.8522127486804709,\n",
       " 0.8522127486804709,\n",
       " 0.8360223105236184,\n",
       " 0.8343583394900261,\n",
       " 0.1459502272984432,\n",
       " 0.1442995680331197,\n",
       " 0.99063849896501,\n",
       " 0.9913074153205141,\n",
       " 0.0011614517814473885,\n",
       " 0.9999933441158656,\n",
       " 1.0,\n",
       " 0.9999900161737985,\n",
       " 1.0,\n",
       " 0.9927251186411347,\n",
       " 1.0,\n",
       " 1.0,\n",
       " 0.9882257409663012,\n",
       " 0.9882257409663012,\n",
       " 1.0,\n",
       " 1.0,\n",
       " 1.0,\n",
       " 1.0,\n",
       " 0.9999966720579329,\n",
       " 0.9999966720579329,\n",
       " 1.0,\n",
       " 1.0,\n",
       " 1.0,\n",
       " 1.0,\n",
       " 1.0,\n",
       " 1.0,\n",
       " 0.0,\n",
       " 0.0,\n",
       " 0.0,\n",
       " 0.0,\n",
       " 0.0008086899223258322,\n",
       " 0.0008086899223258322,\n",
       " 0.0008086899223258322,\n",
       " 0.0008086899223258322,\n",
       " 0.0,\n",
       " 6.655884134368989e-06,\n",
       " 6.655884134368989e-06,\n",
       " 0.9882257409663012,\n",
       " 0.9882257409663012,\n",
       " 0.9882257409663012]"
      ]
     },
     "execution_count": 8,
     "metadata": {},
     "output_type": "execute_result"
    }
   ],
   "source": [
    "# 查看各列NA比例\n",
    "column_na_percentage"
   ]
  },
  {
   "cell_type": "code",
   "execution_count": 9,
   "metadata": {},
   "outputs": [],
   "source": [
    "# 去除掉NA比高的列\n",
    "na_large_columns = []\n",
    "na_threshold = 0.5\n",
    "for col_index in range(len(df.columns)):\n",
    "    if column_na_percentage[col_index] < na_threshold:\n",
    "        na_large_columns.append(df.columns[col_index])\n",
    "        \n",
    "df = df.drop(*na_large_columns)"
   ]
  },
  {
   "cell_type": "code",
   "execution_count": 11,
   "metadata": {},
   "outputs": [
    {
     "name": "stdout",
     "output_type": "stream",
     "text": [
      "Count of rows after removing NA: 249201\n"
     ]
    }
   ],
   "source": [
    "# 第二步去除掉所有带NA的行\n",
    "df = df.dropna(how = 'any')\n",
    "print('Count of rows after removing NA: {0}'.format(df.count()))"
   ]
  },
  {
   "cell_type": "markdown",
   "metadata": {},
   "source": [
    "### 处理离群值"
   ]
  },
  {
   "cell_type": "code",
   "execution_count": 14,
   "metadata": {},
   "outputs": [],
   "source": [
    "# 因本数据无数字型数据,不处理"
   ]
  },
  {
   "cell_type": "markdown",
   "metadata": {},
   "source": [
    "### 条形图"
   ]
  },
  {
   "cell_type": "code",
   "execution_count": 12,
   "metadata": {},
   "outputs": [],
   "source": [
    "# 对'complain type'列进行汇总\n",
    "# 算出'complain type'列每个元素的个数\n",
    "\n",
    "COMPLAINTTYPE_element_count = df.select('Complaint Type')\\\n",
    "                                .rdd.flatMap(lambda Row: Row)\\\n",
    "                                .map(lambda type: (type, 1))\\\n",
    "                                .reduceByKey(lambda a, b: a + b)\\\n",
    "                                .collect()"
   ]
  },
  {
   "cell_type": "code",
   "execution_count": 13,
   "metadata": {},
   "outputs": [],
   "source": [
    "# 将数据整理成matplot需要的格式\n",
    "complain_types = []\n",
    "COMPLAINTTYPE_count = []\n",
    "for typ, count in COMPLAINTTYPE_element_count:\n",
    "    complain_types.append(typ)\n",
    "    COMPLAINTTYPE_count.append(count)"
   ]
  },
  {
   "cell_type": "code",
   "execution_count": 15,
   "metadata": {},
   "outputs": [],
   "source": [
    "# 按count降序排列\n",
    "import pandas as pd\n",
    "pd_df = pd.DataFrame(list(zip(complain_types, COMPLAINTTYPE_count)), \n",
    "               columns =['type', 'count']).sort_values(by =['count'], ascending = False)"
   ]
  },
  {
   "cell_type": "code",
   "execution_count": 16,
   "metadata": {},
   "outputs": [
    {
     "data": {
      "image/png": "[encoded data removed]",
      "text/plain": [
       "<Figure size 432x288 with 1 Axes>"
      ]
     },
     "metadata": {
      "needs_background": "light"
     },
     "output_type": "display_data"
    }
   ],
   "source": [
    "# 作图\n",
    "from matplotlib import pyplot as plt\n",
    "plt.bar(pd_df['type'], pd_df['count'], width = .5)\n",
    "plt.title('Count of complain types')\n",
    "plt.xticks(rotation= 90)\n",
    "plt.show()"
   ]
  }
 ],
 "metadata": {
  "kernelspec": {
   "display_name": "Python 3",
   "language": "python",
   "name": "python3"
  },
  "language_info": {
   "codemirror_mode": {
    "name": "ipython",
    "version": 3
   },
   "file_extension": ".py",
   "mimetype": "text/x-python",
   "name": "python",
   "nbconvert_exporter": "python",
   "pygments_lexer": "ipython3",
   "version": "3.7.4"
  }
 },
 "nbformat": 4,
 "nbformat_minor": 4
}
