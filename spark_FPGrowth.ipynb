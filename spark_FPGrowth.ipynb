{
 "cells": [
  {
   "cell_type": "code",
   "execution_count": 1,
   "metadata": {},
   "outputs": [],
   "source": [
    "import pandas as pd\n",
    "import numpy as np\n",
    "import re"
   ]
  },
  {
   "cell_type": "code",
   "execution_count": 2,
   "metadata": {},
   "outputs": [],
   "source": [
    "from pyspark import SparkContext\n",
    "sc = SparkContext()\n",
    "from pyspark.sql import SQLContext\n",
    "from pyspark.sql.types import Row, StructField, StructType, StringType, IntegerType\n",
    "from pyspark.sql import SparkSession\n",
    "spark = SparkSession(sc)\n",
    "sqlContext = SQLContext(sc)\n",
    "import pyspark.mllib.stat as st\n",
    "import pyspark.sql.types as typ\n",
    "import pyspark.sql.functions as F"
   ]
  },
  {
   "cell_type": "markdown",
   "metadata": {},
   "source": [
    "### 数据处理"
   ]
  },
  {
   "cell_type": "code",
   "execution_count": 3,
   "metadata": {},
   "outputs": [],
   "source": [
    "df = spark.read.csv('../data/UCL_Retail_kaggle.csv', header = True)"
   ]
  },
  {
   "cell_type": "code",
   "execution_count": 4,
   "metadata": {},
   "outputs": [
    {
     "name": "stdout",
     "output_type": "stream",
     "text": [
      "+---------+---------+--------------------+--------+--------------+---------+----------+--------------+\n",
      "|InvoiceNo|StockCode|         Description|Quantity|   InvoiceDate|UnitPrice|CustomerID|       Country|\n",
      "+---------+---------+--------------------+--------+--------------+---------+----------+--------------+\n",
      "|   536365|   85123A|WHITE HANGING HEA...|       6|2010/12/1 8:26|     2.55|     17850|United Kingdom|\n",
      "|   536365|    71053| WHITE METAL LANTERN|       6|2010/12/1 8:26|     3.39|     17850|United Kingdom|\n",
      "|   536365|   84406B|CREAM CUPID HEART...|       8|2010/12/1 8:26|     2.75|     17850|United Kingdom|\n",
      "|   536365|   84029G|KNITTED UNION FLA...|       6|2010/12/1 8:26|     3.39|     17850|United Kingdom|\n",
      "|   536365|   84029E|RED WOOLLY HOTTIE...|       6|2010/12/1 8:26|     3.39|     17850|United Kingdom|\n",
      "+---------+---------+--------------------+--------+--------------+---------+----------+--------------+\n",
      "only showing top 5 rows\n",
      "\n"
     ]
    }
   ],
   "source": [
    "df.show(5)"
   ]
  },
  {
   "cell_type": "code",
   "execution_count": 5,
   "metadata": {},
   "outputs": [
    {
     "data": {
      "text/plain": [
       "'\\ndf = spark.createDataFrame([\\n    (0, [1, 2, 5]),\\n    (1, [1, 2, 3, 5]),\\n    (2, [1, 2])\\n], [\"id\", \"items\"])\\n'"
      ]
     },
     "execution_count": 5,
     "metadata": {},
     "output_type": "execute_result"
    }
   ],
   "source": [
    "# 目标格式是转换成这样：\n",
    "'''\n",
    "df = spark.createDataFrame([\n",
    "    (0, [1, 2, 5]),\n",
    "    (1, [1, 2, 3, 5]),\n",
    "    (2, [1, 2])\n",
    "], [\"id\", \"items\"])\n",
    "'''"
   ]
  },
  {
   "cell_type": "code",
   "execution_count": 6,
   "metadata": {},
   "outputs": [],
   "source": [
    "# 按照InvoiceNo进行合并\n",
    "df = df.groupBy('InvoiceNo').agg(F.collect_set(F.col('Description')).alias('item_list'))\n",
    "# 要注意这里必须用collect_set。如果用collect_list会报错"
   ]
  },
  {
   "cell_type": "code",
   "execution_count": 8,
   "metadata": {},
   "outputs": [
    {
     "name": "stdout",
     "output_type": "stream",
     "text": [
      "+---------+-------------------------------------------------------------------------------------------------------------------------------------------------------------------------------------+\n",
      "|InvoiceNo|item_list                                                                                                                                                                            |\n",
      "+---------+-------------------------------------------------------------------------------------------------------------------------------------------------------------------------------------+\n",
      "|536596   |[WAKE UP COCKEREL TILE COASTER, PACK OF 12 SKULL TISSUES,  SET 2 TEA TOWELS I LOVE LONDON , FAUX FUR CHOCOLATE THROW, HOT WATER BOTTLE TEA AND SYMPATHY, VINTAGE UNION JACK DOORSTOP]|\n",
      "+---------+-------------------------------------------------------------------------------------------------------------------------------------------------------------------------------------+\n",
      "only showing top 1 row\n",
      "\n"
     ]
    }
   ],
   "source": [
    "df.show(1, truncate= False)"
   ]
  },
  {
   "cell_type": "markdown",
   "metadata": {},
   "source": [
    "### FP_growth 操作"
   ]
  },
  {
   "cell_type": "code",
   "execution_count": 9,
   "metadata": {
    "scrolled": true
   },
   "outputs": [],
   "source": [
    "from pyspark.ml.fpm import FPGrowth\n",
    "\n",
    "fpGrowth = FPGrowth(itemsCol=\"item_list\", minSupport=0.01, minConfidence=0.3)\n",
    "model = fpGrowth.fit(df)"
   ]
  },
  {
   "cell_type": "markdown",
   "metadata": {},
   "source": [
    "#### 频繁项目集"
   ]
  },
  {
   "cell_type": "code",
   "execution_count": 14,
   "metadata": {},
   "outputs": [
    {
     "name": "stdout",
     "output_type": "stream",
     "text": [
      "+------------------------------------+----+\n",
      "|items                               |freq|\n",
      "+------------------------------------+----+\n",
      "|[WHITE HANGING HEART T-LIGHT HOLDER]|2302|\n",
      "|[REGENCY CAKESTAND 3 TIER]          |2169|\n",
      "|[JUMBO BAG RED RETROSPOT]           |2135|\n",
      "|[PARTY BUNTING]                     |1706|\n",
      "|[LUNCH BAG RED RETROSPOT]           |1607|\n",
      "|[ASSORTED COLOUR BIRD ORNAMENT]     |1467|\n",
      "|[SET OF 3 CAKE TINS PANTRY DESIGN ] |1458|\n",
      "|[PACK OF 72 RETROSPOT CAKE CASES]   |1334|\n",
      "|[LUNCH BAG  BLACK SKULL.]           |1295|\n",
      "|[NATURAL SLATE HEART CHALKBOARD ]   |1266|\n",
      "+------------------------------------+----+\n",
      "only showing top 10 rows\n",
      "\n"
     ]
    }
   ],
   "source": [
    "# Display frequent itemsets.\n",
    "model.freqItemsets.orderBy(F.desc(\"freq\")).show(10, truncate= False)"
   ]
  },
  {
   "cell_type": "markdown",
   "metadata": {},
   "source": [
    "#### 关联规则"
   ]
  },
  {
   "cell_type": "code",
   "execution_count": 16,
   "metadata": {},
   "outputs": [
    {
     "name": "stdout",
     "output_type": "stream",
     "text": [
      "+-------------------------------+-------------------------------+------------------+------------------+\n",
      "|antecedent                     |consequent                     |confidence        |lift              |\n",
      "+-------------------------------+-------------------------------+------------------+------------------+\n",
      "|[REGENCY TEA PLATE PINK]       |[REGENCY TEA PLATE GREEN ]     |0.8980891719745223|60.26038744595888 |\n",
      "|[REGENCY TEA PLATE GREEN ]     |[REGENCY TEA PLATE PINK]       |0.7305699481865285|60.26038744595888 |\n",
      "|[REGENCY TEA PLATE ROSES ]     |[REGENCY TEA PLATE PINK]       |0.5951859956236324|49.093367154942925|\n",
      "|[REGENCY TEA PLATE PINK]       |[REGENCY TEA PLATE ROSES ]     |0.8662420382165605|49.093367154942925|\n",
      "|[POPPY'S PLAYHOUSE LIVINGROOM ]|[POPPY'S PLAYHOUSE BEDROOM ]   |0.793939393939394 |48.270024185517144|\n",
      "|[POPPY'S PLAYHOUSE BEDROOM ]   |[POPPY'S PLAYHOUSE LIVINGROOM ]|0.6150234741784038|48.270024185517144|\n",
      "|[REGENCY TEA PLATE ROSES ]     |[REGENCY TEA PLATE GREEN ]     |0.7045951859956237|47.27724175462863 |\n",
      "|[REGENCY TEA PLATE GREEN ]     |[REGENCY TEA PLATE ROSES ]     |0.8341968911917098|47.277241754628626|\n",
      "|[POPPY'S PLAYHOUSE KITCHEN]    |[POPPY'S PLAYHOUSE LIVINGROOM ]|0.5977272727272728|46.91253443526171 |\n",
      "|[POPPY'S PLAYHOUSE LIVINGROOM ]|[POPPY'S PLAYHOUSE KITCHEN]    |0.796969696969697 |46.912534435261705|\n",
      "+-------------------------------+-------------------------------+------------------+------------------+\n",
      "only showing top 10 rows\n",
      "\n"
     ]
    }
   ],
   "source": [
    "# Display generated association rules.\n",
    "model.associationRules.orderBy(F.desc(\"lift\")).show(10, truncate= False)"
   ]
  },
  {
   "cell_type": "markdown",
   "metadata": {},
   "source": [
    "#### 预测"
   ]
  },
  {
   "cell_type": "markdown",
   "metadata": {},
   "source": [
    "具体的预测方式官方档案是这么写的：  \n",
    "transform: For each transaction in itemsCol, the transform method will compare its items against the antecedents of each association rule. If the record contains all the antecedents of a specific association rule, the rule will be considered as applicable and its consequents will be added to the prediction result. The transform method will summarize the consequents from all the applicable rules as prediction. The prediction column has the same data type as itemsCol and does not contain existing items in the itemsCol.  \n",
    "所以说是根据所有的关联规则进行预测，并且推荐的东西是不存在于原项目集的东西。所以不能有评估的可能性。"
   ]
  },
  {
   "cell_type": "code",
   "execution_count": 20,
   "metadata": {},
   "outputs": [
    {
     "name": "stdout",
     "output_type": "stream",
     "text": [
      "+---------+-------------------------------------------------------------------------------------------------------------------------------------------------------------------------------------+-----------------------------------------------------------------------------------------+\n",
      "|InvoiceNo|item_list                                                                                                                                                                            |prediction                                                                               |\n",
      "+---------+-------------------------------------------------------------------------------------------------------------------------------------------------------------------------------------+-----------------------------------------------------------------------------------------+\n",
      "|536596   |[WAKE UP COCKEREL TILE COASTER, PACK OF 12 SKULL TISSUES,  SET 2 TEA TOWELS I LOVE LONDON , FAUX FUR CHOCOLATE THROW, HOT WATER BOTTLE TEA AND SYMPATHY, VINTAGE UNION JACK DOORSTOP]|[HOT WATER BOTTLE KEEP CALM, HOT WATER BOTTLE I AM SO POORLY, CHOCOLATE HOT WATER BOTTLE]|\n",
      "+---------+-------------------------------------------------------------------------------------------------------------------------------------------------------------------------------------+-----------------------------------------------------------------------------------------+\n",
      "only showing top 1 row\n",
      "\n"
     ]
    }
   ],
   "source": [
    "# transform examines the input items against all the association rules and summarize the\n",
    "# consequents as prediction\n",
    "model.transform(df).show(1, truncate = False)"
   ]
  }
 ],
 "metadata": {
  "kernelspec": {
   "display_name": "Python 3",
   "language": "python",
   "name": "python3"
  },
  "language_info": {
   "codemirror_mode": {
    "name": "ipython",
    "version": 3
   },
   "file_extension": ".py",
   "mimetype": "text/x-python",
   "name": "python",
   "nbconvert_exporter": "python",
   "pygments_lexer": "ipython3",
   "version": "3.7.4"
  }
 },
 "nbformat": 4,
 "nbformat_minor": 4
}
